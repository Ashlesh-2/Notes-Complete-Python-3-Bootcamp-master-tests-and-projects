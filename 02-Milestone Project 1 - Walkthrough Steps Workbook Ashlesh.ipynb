{
 "cells": [
  {
   "cell_type": "markdown",
   "metadata": {},
   "source": [
    "___\n",
    "\n",
    "<a href='https://www.udemy.com/user/joseportilla/'><img src='../Pierian_Data_Logo.png'/></a>\n",
    "___\n",
    "<center><em>Content Copyright by Pierian Data</em></center>"
   ]
  },
  {
   "cell_type": "markdown",
   "metadata": {},
   "source": [
    "# Milestone Project 1: Walkthrough Steps Workbook\n",
    "\n",
    "Below is a set of steps for you to follow to try to create the Tic Tac Toe Milestone Project game!"
   ]
  },
  {
   "cell_type": "markdown",
   "metadata": {},
   "source": [
    "#### Some suggested tools before you get started:\n",
    "To take input from a user:\n",
    "\n",
    "    player1 = input(\"Please pick a marker 'X' or 'O'\")\n",
    "    \n",
    "Note that input() takes in a string. If you need an integer value, use\n",
    "\n",
    "    position = int(input('Please enter a number'))\n",
    "    \n",
    "<br>To clear the screen between moves:\n",
    "\n",
    "    from IPython.display import clear_output\n",
    "    clear_output()\n",
    "    \n",
    "Note that clear_output() will only work in jupyter. To clear the screen in other IDEs, consider:\n",
    "\n",
    "    print('\\n'*100)\n",
    "    \n",
    "This scrolls the previous board up out of view. Now on to the program!"
   ]
  },
  {
   "cell_type": "markdown",
   "metadata": {},
   "source": [
    "**Step 1: Write a function that can print out a board. Set up your board as a list, where each index 1-9 corresponds with a number on a number pad, so you get a 3 by 3 board representation.**"
   ]
  },
  {
   "cell_type": "code",
   "execution_count": 1,
   "metadata": {},
   "outputs": [],
   "source": [
    "# from IPython.display import clear_output\n",
    "\n",
    "# def display_board(board):\n",
    "    \n",
    "#     print(board[7]+'|'+board[8]+'|'+board[9])\n",
    "#     print('-|-|-')\n",
    "#     print(board[4]+'|'+board[5]+'|'+board[6])\n",
    "#     print('-|-|-')\n",
    "#     print(board[1]+'|'+board[2]+'|'+board[3])"
   ]
  },
  {
   "cell_type": "code",
   "execution_count": 2,
   "metadata": {},
   "outputs": [],
   "source": [
    "from IPython.display import clear_output\n",
    "\n",
    "def display_board(board):\n",
    "#     clear_output()  # Remember, this only works in jupyter!\n",
    "    \n",
    "    print('   |   |')\n",
    "    print(' ' + board[7] + ' | ' + board[8] + ' | ' + board[9])\n",
    "    print('   |   |')\n",
    "    print('-----------')\n",
    "    print('   |   |')\n",
    "    print(' ' + board[4] + ' | ' + board[5] + ' | ' + board[6])\n",
    "    print('   |   |')\n",
    "    print('-----------')\n",
    "    print('   |   |')\n",
    "    print(' ' + board[1] + ' | ' + board[2] + ' | ' + board[3])\n",
    "    print('   |   |')"
   ]
  },
  {
   "cell_type": "markdown",
   "metadata": {},
   "source": [
    "**TEST Step 1:** run your function on a test version of the board list, and make adjustments as necessary"
   ]
  },
  {
   "cell_type": "code",
   "execution_count": 3,
   "metadata": {},
   "outputs": [
    {
     "name": "stdout",
     "output_type": "stream",
     "text": [
      "   |   |\n",
      "   |   |  \n",
      "   |   |\n",
      "-----------\n",
      "   |   |\n",
      "   |   |  \n",
      "   |   |\n",
      "-----------\n",
      "   |   |\n",
      "   |   |  \n",
      "   |   |\n"
     ]
    }
   ],
   "source": [
    "test_board = [' ']*10\n",
    "display_board(test_board)"
   ]
  },
  {
   "cell_type": "markdown",
   "metadata": {},
   "source": [
    "**Step 2: Write a function that can take in a player input and assign their marker as 'X' or 'O'. Think about using *while* loops to continually ask until you get a correct answer.**"
   ]
  },
  {
   "cell_type": "code",
   "execution_count": 4,
   "metadata": {},
   "outputs": [],
   "source": [
    "def player_input():\n",
    "    marker = ''\n",
    "    while marker != 'X' and marker !='O':\n",
    "        marker = input('Choose marker for player 1 (X or O): ')\n",
    "    player1 = marker\n",
    "    if player1 == 'X':\n",
    "        player2 = 'O'\n",
    "    else:\n",
    "        player2 = 'X'\n",
    "    return (player1, player2)"
   ]
  },
  {
   "cell_type": "markdown",
   "metadata": {},
   "source": [
    "**TEST Step 2:** run the function to make sure it returns the desired output"
   ]
  },
  {
   "cell_type": "markdown",
   "metadata": {},
   "source": [
    "**Step 3: Write a function that takes in the board list object, a marker ('X' or 'O'), and a desired position (number 1-9) and assigns it to the board.**"
   ]
  },
  {
   "cell_type": "code",
   "execution_count": 5,
   "metadata": {},
   "outputs": [],
   "source": [
    "def pos():\n",
    "    choice = 'w'\n",
    "    while choice not in ['1','2','3','4','5','6','7','8','9']:\n",
    "        choice= input('Enter a position number for inserting X or O: ')\n",
    "    return int(choice)"
   ]
  },
  {
   "cell_type": "code",
   "execution_count": 6,
   "metadata": {},
   "outputs": [],
   "source": [
    "def place_marker(board, marker, position):\n",
    "    board[position]=marker\n",
    "    return board"
   ]
  },
  {
   "cell_type": "markdown",
   "metadata": {},
   "source": [
    "**TEST Step 3:** run the place marker function using test parameters and display the modified board"
   ]
  },
  {
   "cell_type": "markdown",
   "metadata": {},
   "source": [
    "**Step 4: Write a function that takes in a board and a mark (X or O) and then checks to see if that mark has won. **"
   ]
  },
  {
   "cell_type": "code",
   "execution_count": 7,
   "metadata": {},
   "outputs": [],
   "source": [
    "def win_check(board, mark):\n",
    "    if board[7] == mark and board[8] == mark and board[9] == mark:\n",
    "        return f'player {mark} is a winner'\n",
    "    elif board[7] == mark and board[8] == mark and board[9] == mark :\n",
    "        return f'player {mark} is a winner'\n",
    "    if board[4] == mark and board[5] == mark and board[6] == mark:\n",
    "        return f'player {mark} is a winner'\n",
    "    elif board[4] == mark and board[5] == mark and board[6] == mark :\n",
    "        return f'player {mark} is a winner'\n",
    "    if board[1] == mark and board[2] == mark and board[3] == mark:\n",
    "        return f'player {mark} is a winner'\n",
    "    elif board[1] == mark and board[2] == mark and board[3] == mark :\n",
    "        return f'player {mark} is a winner'\n",
    "    if board[7] == mark and board[5] == mark and board[3] == mark:\n",
    "        return f'player {mark} is a winner'\n",
    "    elif board[7] == mark and board[5] == mark and board[3] == mark :\n",
    "        return f'player {mark} is a winner'\n",
    "    if board[9] == mark and board[5] == mark and board[1] == mark:\n",
    "        return f'player {mark} is a winner'\n",
    "    elif board[9] == mark and board[5] == mark and board[1] == mark :\n",
    "        return f'player {mark} is a winner'\n",
    "    if board[7] == mark and board[4] == mark and board[1] == mark:\n",
    "        return f'player {mark} is a winner'\n",
    "    elif board[7] == mark and board[4] == mark and board[1] == mark :\n",
    "        return f'player {mark} is a winner'\n",
    "    if board[8] == mark and board[5] == mark and board[2] == mark:\n",
    "        return f'player {mark} is a winner'\n",
    "    elif board[8] == mark and board[5] == mark and board[2] == mark :\n",
    "        return f'player {mark} is a winner'\n",
    "    if board[9] == mark and board[6] == mark and board[3] == mark:\n",
    "        return f'player {mark} is a winner'\n",
    "    elif board[9] == mark and board[6] == mark and board[3] == mark :\n",
    "        return f'player {mark} is a winner'\n",
    "    else:\n",
    "        return False"
   ]
  },
  {
   "cell_type": "markdown",
   "metadata": {},
   "source": [
    "**TEST Step 4:** run the win_check function against our test_board - it should return True"
   ]
  },
  {
   "cell_type": "markdown",
   "metadata": {},
   "source": [
    "**Step 5: Write a function that uses the random module to randomly decide which player goes first. You may want to lookup random.randint() Return a string of which player went first.**"
   ]
  },
  {
   "cell_type": "code",
   "execution_count": 8,
   "metadata": {},
   "outputs": [],
   "source": [
    "import random\n",
    "\n",
    "def choose_first():\n",
    "    rand = random.randint(1,2)\n",
    "    return rand"
   ]
  },
  {
   "cell_type": "markdown",
   "metadata": {},
   "source": [
    "**Step 6: Write a function that returns a boolean indicating whether a space on the board is freely available.**"
   ]
  },
  {
   "cell_type": "code",
   "execution_count": 9,
   "metadata": {},
   "outputs": [],
   "source": [
    "def space_check(board, position):\n",
    "    if board[position]==' ':\n",
    "        return True\n",
    "    else:\n",
    "        return False"
   ]
  },
  {
   "cell_type": "markdown",
   "metadata": {},
   "source": [
    "**Step 7: Write a function that checks if the board is full and returns a boolean value. True if full, False otherwise.**"
   ]
  },
  {
   "cell_type": "code",
   "execution_count": 10,
   "metadata": {},
   "outputs": [],
   "source": [
    "def full_board_check(board):\n",
    "    if board[9] != ' ' and board[8] != ' ' and board[7] != ' ' and board[6] != ' ' and board[5] != ' ' and board[4] != ' ' and board[3] != ' ' and board[2] != ' ' and board[1] != ' ':\n",
    "        return True\n",
    "    else:\n",
    "        return False"
   ]
  },
  {
   "cell_type": "markdown",
   "metadata": {},
   "source": [
    "**Step 8: Write a function that asks for a player's next position (as a number 1-9) and then uses the function from step 6 to check if it's a free position. If it is, then return the position for later use.**"
   ]
  },
  {
   "cell_type": "code",
   "execution_count": 11,
   "metadata": {},
   "outputs": [],
   "source": [
    "def player_choice(board):\n",
    "    display_board(board)\n",
    "    choice='w'\n",
    "    while choice not in [1,2,3,4,5,6,7,8,9]:\n",
    "        choice = int(input('Enter your position 1 to 9: '))\n",
    "    spacecheck = space_check(board,choice)\n",
    "    if spacecheck == True:\n",
    "        return choice\n",
    "    else:\n",
    "        print(f'Enter different position as position {choice} is filled.')\n",
    "        player_choice(board)"
   ]
  },
  {
   "cell_type": "markdown",
   "metadata": {},
   "source": [
    "**Step 9: Write a function that asks the player if they want to play again and returns a boolean True if they do want to play again.**"
   ]
  },
  {
   "cell_type": "code",
   "execution_count": 12,
   "metadata": {},
   "outputs": [],
   "source": [
    "def replay():\n",
    "    replay = 'w'\n",
    "    while replay not in ['Y','y','N','n']:\n",
    "        replay = input('Do you guys wanna play ? Y or N: ')\n",
    "    if replay in ['Y','y']:\n",
    "        return True\n",
    "    else: return False"
   ]
  },
  {
   "cell_type": "markdown",
   "metadata": {
    "collapsed": true
   },
   "source": [
    "**Step 10: Here comes the hard part! Use while loops and the functions you've made to run the game!**"
   ]
  },
  {
   "cell_type": "code",
   "execution_count": null,
   "metadata": {},
   "outputs": [
    {
     "name": "stdout",
     "output_type": "stream",
     "text": [
      "Welcome to Tic Tac Toe!\n",
      "   |   |\n",
      "   |   |  \n",
      "   |   |\n",
      "-----------\n",
      "   |   |\n",
      "   |   |  \n",
      "   |   |\n",
      "-----------\n",
      "   |   |\n",
      "   |   |  \n",
      "   |   |\n"
     ]
    }
   ],
   "source": [
    "print('Welcome to Tic Tac Toe!')\n",
    "test_board = [' ']*10\n",
    "temp = 0\n",
    "while True:\n",
    "    # Set the game up here\n",
    "    display_board(test_board)\n",
    "    player1, player2 = player_input()\n",
    "#     print(player1, player2)\n",
    "    game_on = True\n",
    "    player = choose_first()\n",
    "    if player == 1:\n",
    "        print('Player ', player1, ' goes first')\n",
    "    else:\n",
    "        temp = player2\n",
    "        player2 = player1\n",
    "        player1 = temp\n",
    "        print('Player ', player1, ' goes first')\n",
    "#     print(player1, player2)\n",
    "    while game_on:\n",
    "        #Player 1 Turn\n",
    "        print('player ',player1)\n",
    "        position = player_choice(test_board)\n",
    "        board = place_marker(test_board,player1,position)\n",
    "        fullboard = full_board_check(board)\n",
    "        if fullboard==True:\n",
    "            print('Game Draw..')\n",
    "            break\n",
    "        winner1 = win_check(board, player1)\n",
    "        if winner1 != False:\n",
    "            print(winner1)\n",
    "            break\n",
    "        # Player2's turn.\n",
    "        print('player ',player2)\n",
    "        position = player_choice(test_board)\n",
    "        board = place_marker(test_board,player2,position)\n",
    "        \n",
    "        winner2 = win_check(board, player2)\n",
    "        if winner2 != False:\n",
    "            print(winner2)\n",
    "            break\n",
    "        fullboard = full_board_check(board)\n",
    "        if fullboard==True:\n",
    "            print('Game Draw..')\n",
    "            print(board)\n",
    "            break\n",
    "        game_on = True\n",
    "        \n",
    "            #pass\n",
    "    display_board(test_board)\n",
    "    if not replay():\n",
    "        break\n",
    "    else:\n",
    "        test_board = [' ']*10"
   ]
  },
  {
   "cell_type": "markdown",
   "metadata": {
    "collapsed": true
   },
   "source": [
    "## Good Job!"
   ]
  }
 ],
 "metadata": {
  "kernelspec": {
   "display_name": "Python 3 (ipykernel)",
   "language": "python",
   "name": "python3"
  },
  "language_info": {
   "codemirror_mode": {
    "name": "ipython",
    "version": 3
   },
   "file_extension": ".py",
   "mimetype": "text/x-python",
   "name": "python",
   "nbconvert_exporter": "python",
   "pygments_lexer": "ipython3",
   "version": "3.11.3"
  }
 },
 "nbformat": 4,
 "nbformat_minor": 1
}
