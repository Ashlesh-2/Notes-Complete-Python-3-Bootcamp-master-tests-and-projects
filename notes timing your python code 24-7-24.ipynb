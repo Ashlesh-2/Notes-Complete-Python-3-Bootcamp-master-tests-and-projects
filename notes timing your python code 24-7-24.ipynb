{
 "cells": [
  {
   "cell_type": "code",
   "execution_count": 1,
   "id": "d87daeaa-b657-41ee-a764-849a86e98c87",
   "metadata": {},
   "outputs": [],
   "source": [
    "def func1(n):\n",
    "    return [str(num) for num in range(n)]"
   ]
  },
  {
   "cell_type": "code",
   "execution_count": 2,
   "id": "afc40937-c10d-4f3f-97b0-e894f1a331a9",
   "metadata": {},
   "outputs": [
    {
     "data": {
      "text/plain": [
       "['0', '1', '2', '3', '4', '5', '6', '7', '8', '9']"
      ]
     },
     "execution_count": 2,
     "metadata": {},
     "output_type": "execute_result"
    }
   ],
   "source": [
    "func1(10)"
   ]
  },
  {
   "cell_type": "code",
   "execution_count": 3,
   "id": "999226cf-b2ee-43dd-bea2-3c6de0426e2c",
   "metadata": {},
   "outputs": [],
   "source": [
    "def func2(n):\n",
    "    return list(map(str, range(n)))"
   ]
  },
  {
   "cell_type": "code",
   "execution_count": 4,
   "id": "205fb8ec-0b3a-4228-91b2-5686fef4998d",
   "metadata": {},
   "outputs": [
    {
     "data": {
      "text/plain": [
       "['0', '1', '2', '3', '4', '5', '6', '7', '8', '9']"
      ]
     },
     "execution_count": 4,
     "metadata": {},
     "output_type": "execute_result"
    }
   ],
   "source": [
    "func2(10)"
   ]
  },
  {
   "cell_type": "code",
   "execution_count": 5,
   "id": "89557592-6c1c-41a2-86f3-128c788c7dcb",
   "metadata": {},
   "outputs": [],
   "source": [
    "import time"
   ]
  },
  {
   "cell_type": "code",
   "execution_count": 6,
   "id": "d7fe095c-f0e0-47c4-a413-6f91b182a88f",
   "metadata": {},
   "outputs": [
    {
     "name": "stdout",
     "output_type": "stream",
     "text": [
      "0.0027055740356445312\n"
     ]
    }
   ],
   "source": [
    "# CURRENT TIME BEFORE\n",
    "starttime = time.time()\n",
    "# RUN CODE\n",
    "result = func1(10000)\n",
    "# CURRENT TIME AFTER RUNNING CODE\n",
    "endtime = time.time()\n",
    "# ELAPSED TIME\n",
    "elapsed_time = endtime-starttime\n",
    "print(elapsed_time)"
   ]
  },
  {
   "cell_type": "code",
   "execution_count": 7,
   "id": "fd1dc51d-23c4-4d48-8939-a0c99dbb5a4f",
   "metadata": {},
   "outputs": [
    {
     "name": "stdout",
     "output_type": "stream",
     "text": [
      "0.0023703575134277344\n"
     ]
    }
   ],
   "source": [
    "# CURRENT TIME BEFORE\n",
    "starttime = time.time()\n",
    "# RUN CODE\n",
    "result = func2(10000)\n",
    "# CURRENT TIME AFTER RUNNING CODE\n",
    "endtime = time.time()\n",
    "# ELAPSED TIME\n",
    "elapsed_time = endtime-starttime\n",
    "print(elapsed_time)"
   ]
  },
  {
   "cell_type": "code",
   "execution_count": 8,
   "id": "67859fc4-7a66-41ef-b655-d18f61f78c5d",
   "metadata": {},
   "outputs": [],
   "source": [
    "import timeit"
   ]
  },
  {
   "cell_type": "code",
   "execution_count": 9,
   "id": "6d690e77-1837-49a6-95c2-f78b147357d7",
   "metadata": {},
   "outputs": [],
   "source": [
    "stmt = '''\n",
    "func1(100)\n",
    "'''"
   ]
  },
  {
   "cell_type": "code",
   "execution_count": 10,
   "id": "03613296-75a6-4b6a-b914-6d9cd6e72f04",
   "metadata": {},
   "outputs": [],
   "source": [
    "setup = '''\n",
    "def func1(n):\n",
    "    return [str(num) for num in range(n)]\n",
    "'''"
   ]
  },
  {
   "cell_type": "code",
   "execution_count": 11,
   "id": "ca53df36-20c0-46fd-af5e-6d150abf379f",
   "metadata": {},
   "outputs": [
    {
     "data": {
      "text/plain": [
       "9.118484399979934"
      ]
     },
     "execution_count": 11,
     "metadata": {},
     "output_type": "execute_result"
    }
   ],
   "source": [
    "timeit.timeit(stmt, setup, number = 1000000)"
   ]
  },
  {
   "cell_type": "code",
   "execution_count": 12,
   "id": "13aeb609-d456-4c1c-87ba-ec800367154e",
   "metadata": {},
   "outputs": [],
   "source": [
    "stmt2 = '''\n",
    "func2(100)\n",
    "'''"
   ]
  },
  {
   "cell_type": "code",
   "execution_count": 13,
   "id": "76fe006d-e7b4-4083-8316-d4bd2831d42d",
   "metadata": {},
   "outputs": [],
   "source": [
    "setup2 = '''\n",
    "def func2(n):\n",
    "    return list(map(str, range(n)))\n",
    "'''"
   ]
  },
  {
   "cell_type": "code",
   "execution_count": 14,
   "id": "cb0664e4-cf46-4102-a3ef-97abb6bb8b28",
   "metadata": {},
   "outputs": [
    {
     "data": {
      "text/plain": [
       "11.489803100004792"
      ]
     },
     "execution_count": 14,
     "metadata": {},
     "output_type": "execute_result"
    }
   ],
   "source": [
    "timeit.timeit(stmt2, setup2, number = 1000000)"
   ]
  },
  {
   "cell_type": "code",
   "execution_count": 30,
   "id": "2addb4a1-a5df-4f86-8fb3-c91c3f706e4d",
   "metadata": {},
   "outputs": [
    {
     "name": "stdout",
     "output_type": "stream",
     "text": [
      "11.9 µs ± 799 ns per loop (mean ± std. dev. of 7 runs, 100,000 loops each)\n"
     ]
    }
   ],
   "source": [
    "%%timeit\n",
    "func1(100)"
   ]
  },
  {
   "cell_type": "code",
   "execution_count": 32,
   "id": "2d04e60e-9715-4298-9518-b6afd519c88e",
   "metadata": {},
   "outputs": [
    {
     "name": "stdout",
     "output_type": "stream",
     "text": [
      "14.7 µs ± 454 ns per loop (mean ± std. dev. of 7 runs, 100,000 loops each)\n"
     ]
    }
   ],
   "source": [
    "%%timeit\n",
    "func2(100)"
   ]
  },
  {
   "cell_type": "code",
   "execution_count": null,
   "id": "a95e173c-ff90-42f8-a105-5ea6365c1537",
   "metadata": {},
   "outputs": [],
   "source": []
  }
 ],
 "metadata": {
  "kernelspec": {
   "display_name": "Python 3 (ipykernel)",
   "language": "python",
   "name": "python3"
  },
  "language_info": {
   "codemirror_mode": {
    "name": "ipython",
    "version": 3
   },
   "file_extension": ".py",
   "mimetype": "text/x-python",
   "name": "python",
   "nbconvert_exporter": "python",
   "pygments_lexer": "ipython3",
   "version": "3.11.7"
  }
 },
 "nbformat": 4,
 "nbformat_minor": 5
}
