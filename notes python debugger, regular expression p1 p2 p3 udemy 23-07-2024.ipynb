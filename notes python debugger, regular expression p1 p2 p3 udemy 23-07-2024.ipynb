{
 "cells": [
  {
   "cell_type": "code",
   "execution_count": 1,
   "id": "3b81d08e-c5a3-4986-ba0a-3d2ef0dda006",
   "metadata": {},
   "outputs": [],
   "source": [
    "x = [1,2,3]\n",
    "y = 2\n",
    "z=3"
   ]
  },
  {
   "cell_type": "code",
   "execution_count": 2,
   "id": "30ed5228-0c29-47d7-9e24-58df3e83244d",
   "metadata": {},
   "outputs": [],
   "source": [
    "import pdb"
   ]
  },
  {
   "cell_type": "code",
   "execution_count": 3,
   "id": "c6833c2c-b981-4996-8ed3-2a5d1b1df4be",
   "metadata": {},
   "outputs": [
    {
     "name": "stdout",
     "output_type": "stream",
     "text": [
      "--Return--\n",
      "None\n",
      "> \u001b[1;32mc:\\users\\ashu\\appdata\\local\\temp\\ipykernel_21860\\1435830972.py\u001b[0m(6)\u001b[0;36m<module>\u001b[1;34m()\u001b[0m\n",
      "\n"
     ]
    },
    {
     "name": "stdin",
     "output_type": "stream",
     "text": [
      "ipdb>  x\n"
     ]
    },
    {
     "name": "stdout",
     "output_type": "stream",
     "text": [
      "[1, 2, 3]\n"
     ]
    },
    {
     "name": "stdin",
     "output_type": "stream",
     "text": [
      "ipdb>  y\n"
     ]
    },
    {
     "name": "stdout",
     "output_type": "stream",
     "text": [
      "2\n"
     ]
    },
    {
     "name": "stdin",
     "output_type": "stream",
     "text": [
      "ipdb>  z\n"
     ]
    },
    {
     "name": "stdout",
     "output_type": "stream",
     "text": [
      "3\n"
     ]
    },
    {
     "name": "stdin",
     "output_type": "stream",
     "text": [
      "ipdb>  x+y\n"
     ]
    },
    {
     "name": "stdout",
     "output_type": "stream",
     "text": [
      "*** TypeError: can only concatenate list (not \"int\") to list\n"
     ]
    },
    {
     "name": "stdin",
     "output_type": "stream",
     "text": [
      "ipdb>  z+y\n"
     ]
    },
    {
     "name": "stdout",
     "output_type": "stream",
     "text": [
      "5\n"
     ]
    },
    {
     "name": "stdin",
     "output_type": "stream",
     "text": [
      "ipdb>  z+x\n"
     ]
    },
    {
     "name": "stdout",
     "output_type": "stream",
     "text": [
      "*** TypeError: unsupported operand type(s) for +: 'int' and 'list'\n"
     ]
    },
    {
     "name": "stdin",
     "output_type": "stream",
     "text": [
      "ipdb>  2+3\n"
     ]
    },
    {
     "name": "stdout",
     "output_type": "stream",
     "text": [
      "5\n"
     ]
    },
    {
     "name": "stdin",
     "output_type": "stream",
     "text": [
      "ipdb>  q\n"
     ]
    }
   ],
   "source": [
    "x = [1,2,3]\n",
    "y = 2\n",
    "z = 3\n",
    "\n",
    "result_one = y+z\n",
    "pdb.set_trace()\n",
    "result_two = y+x"
   ]
  },
  {
   "cell_type": "code",
   "execution_count": null,
   "id": "e354951d-33ea-4ebc-bb78-2666788b2d82",
   "metadata": {},
   "outputs": [],
   "source": []
  },
  {
   "cell_type": "code",
   "execution_count": null,
   "id": "7cce2baf-d8a0-4055-88fc-7d055e9a3204",
   "metadata": {},
   "outputs": [],
   "source": []
  },
  {
   "cell_type": "markdown",
   "id": "2a4ba725-9142-440a-acb7-03bcc9d725d1",
   "metadata": {},
   "source": [
    "# Python regular expression (re)"
   ]
  },
  {
   "cell_type": "code",
   "execution_count": 28,
   "id": "0fbe0f0a-185b-4ba5-9e5c-da35cbf5d4b7",
   "metadata": {},
   "outputs": [],
   "source": [
    "text = \"The agent's phone number is 8553254993, Call soon !\""
   ]
  },
  {
   "cell_type": "code",
   "execution_count": 30,
   "id": "1b08b815-11ae-42ee-9ea2-19fa30ba42a3",
   "metadata": {},
   "outputs": [
    {
     "data": {
      "text/plain": [
       "True"
      ]
     },
     "execution_count": 30,
     "metadata": {},
     "output_type": "execute_result"
    }
   ],
   "source": [
    "'phone' in text"
   ]
  },
  {
   "cell_type": "code",
   "execution_count": 32,
   "id": "61d96756-27b0-40b6-8c9c-d4f805cdee3e",
   "metadata": {},
   "outputs": [],
   "source": [
    "import re"
   ]
  },
  {
   "cell_type": "code",
   "execution_count": 34,
   "id": "38e5f52c-5357-427b-bd37-fb76e4763fbf",
   "metadata": {},
   "outputs": [],
   "source": [
    "pattern = 'phone'"
   ]
  },
  {
   "cell_type": "code",
   "execution_count": 36,
   "id": "134480ec-5119-4eb0-81cf-a9064bf3bf1b",
   "metadata": {},
   "outputs": [
    {
     "data": {
      "text/plain": [
       "<re.Match object; span=(12, 17), match='phone'>"
      ]
     },
     "execution_count": 36,
     "metadata": {},
     "output_type": "execute_result"
    }
   ],
   "source": [
    "re.search(pattern, text)"
   ]
  },
  {
   "cell_type": "code",
   "execution_count": 38,
   "id": "b9c1d0f6-2cf0-4891-967c-a863f454fb80",
   "metadata": {},
   "outputs": [],
   "source": [
    "pattern = 'Not in Text'"
   ]
  },
  {
   "cell_type": "code",
   "execution_count": 40,
   "id": "161ab712-bf23-42ee-be93-411dc4126cb9",
   "metadata": {},
   "outputs": [],
   "source": [
    "re.search(pattern, text)"
   ]
  },
  {
   "cell_type": "code",
   "execution_count": 42,
   "id": "85417ad5-dda0-49f4-93e2-0cf4a0f932a4",
   "metadata": {},
   "outputs": [],
   "source": [
    "pattern = 'phone'"
   ]
  },
  {
   "cell_type": "code",
   "execution_count": 44,
   "id": "a7505cb6-7f5d-421a-b642-ded2455c0ff5",
   "metadata": {},
   "outputs": [],
   "source": [
    "match = re.search(pattern, text)"
   ]
  },
  {
   "cell_type": "code",
   "execution_count": 46,
   "id": "086cf41a-2c31-49f3-8e43-574d2de5c3c9",
   "metadata": {},
   "outputs": [
    {
     "data": {
      "text/plain": [
       "<re.Match object; span=(12, 17), match='phone'>"
      ]
     },
     "execution_count": 46,
     "metadata": {},
     "output_type": "execute_result"
    }
   ],
   "source": [
    "match"
   ]
  },
  {
   "cell_type": "code",
   "execution_count": 48,
   "id": "1043d13a-89d1-4c20-af34-396447ca0f50",
   "metadata": {},
   "outputs": [
    {
     "data": {
      "text/plain": [
       "'phone'"
      ]
     },
     "execution_count": 48,
     "metadata": {},
     "output_type": "execute_result"
    }
   ],
   "source": [
    "match.group()"
   ]
  },
  {
   "cell_type": "code",
   "execution_count": 50,
   "id": "543f7980-9761-4457-b1fb-ca3915ba89e9",
   "metadata": {},
   "outputs": [
    {
     "data": {
      "text/plain": [
       "(12, 17)"
      ]
     },
     "execution_count": 50,
     "metadata": {},
     "output_type": "execute_result"
    }
   ],
   "source": [
    "match.span()"
   ]
  },
  {
   "cell_type": "code",
   "execution_count": 52,
   "id": "b517cfc5-4b1c-44df-b83e-2625af411c40",
   "metadata": {},
   "outputs": [
    {
     "data": {
      "text/plain": [
       "12"
      ]
     },
     "execution_count": 52,
     "metadata": {},
     "output_type": "execute_result"
    }
   ],
   "source": [
    "match.start()"
   ]
  },
  {
   "cell_type": "code",
   "execution_count": 54,
   "id": "b9353bd6-9938-44d2-89d9-fe35836482cc",
   "metadata": {},
   "outputs": [
    {
     "data": {
      "text/plain": [
       "17"
      ]
     },
     "execution_count": 54,
     "metadata": {},
     "output_type": "execute_result"
    }
   ],
   "source": [
    "match.end()"
   ]
  },
  {
   "cell_type": "code",
   "execution_count": 56,
   "id": "213e3e0b-b38b-4df4-9217-96e246ce6ff8",
   "metadata": {},
   "outputs": [],
   "source": [
    "text = \"my phone once, my phone twice\""
   ]
  },
  {
   "cell_type": "code",
   "execution_count": 58,
   "id": "08d3a87d-1d98-42f5-9595-88ea1f628bd5",
   "metadata": {},
   "outputs": [],
   "source": [
    "match = re.search('phone', text)"
   ]
  },
  {
   "cell_type": "code",
   "execution_count": 60,
   "id": "f0f20b1f-62ad-42a1-a3f5-35a6adade6b8",
   "metadata": {},
   "outputs": [
    {
     "data": {
      "text/plain": [
       "<re.Match object; span=(3, 8), match='phone'>"
      ]
     },
     "execution_count": 60,
     "metadata": {},
     "output_type": "execute_result"
    }
   ],
   "source": [
    "match"
   ]
  },
  {
   "cell_type": "code",
   "execution_count": 62,
   "id": "afde854f-bdb8-4036-bb55-eeef96911250",
   "metadata": {},
   "outputs": [],
   "source": [
    "matches = re.findall('phone', text)"
   ]
  },
  {
   "cell_type": "code",
   "execution_count": 64,
   "id": "b44b0414-d7ea-477a-a9a5-e15465524992",
   "metadata": {},
   "outputs": [
    {
     "data": {
      "text/plain": [
       "['phone', 'phone']"
      ]
     },
     "execution_count": 64,
     "metadata": {},
     "output_type": "execute_result"
    }
   ],
   "source": [
    "matches"
   ]
  },
  {
   "cell_type": "code",
   "execution_count": 66,
   "id": "5a60deda-fd84-4cb5-bd6b-0fbb9c03c748",
   "metadata": {},
   "outputs": [
    {
     "data": {
      "text/plain": [
       "2"
      ]
     },
     "execution_count": 66,
     "metadata": {},
     "output_type": "execute_result"
    }
   ],
   "source": [
    "len(matches)"
   ]
  },
  {
   "cell_type": "code",
   "execution_count": 68,
   "id": "d3d882d1-7527-4fb5-bca7-c16a426df1e9",
   "metadata": {},
   "outputs": [
    {
     "name": "stdout",
     "output_type": "stream",
     "text": [
      "<re.Match object; span=(3, 8), match='phone'>\n",
      "(3, 8)\n",
      "phone\n",
      "<re.Match object; span=(18, 23), match='phone'>\n",
      "(18, 23)\n",
      "phone\n"
     ]
    }
   ],
   "source": [
    "for match in re.finditer('phone', text):\n",
    "    print(match)\n",
    "    print(match.span())\n",
    "    print(match.group())"
   ]
  },
  {
   "cell_type": "markdown",
   "id": "ab93f67b-38a3-4de3-8911-1388ede6bcd3",
   "metadata": {},
   "source": [
    "# Python regular expression (re) part 2"
   ]
  },
  {
   "cell_type": "code",
   "execution_count": 71,
   "id": "cc5ee12c-1bdc-466b-b84d-aa0e1228a8e3",
   "metadata": {},
   "outputs": [],
   "source": [
    "# \\d --- A digit --- file_\\d\\d --- file_25\n",
    "# \\w --- Alphanumeric --- \\w-\\w\\w\\w --- A-b_1\n",
    "# \\s --- White space --- a\\sb\\sc --- a b c\n",
    "# \\D --- A non digit --- \\D\\D\\D --- ABC\n",
    "# \\W --- Non-alphanumberic --- \\W\\W\\W\\W\\W --- *_+=)\n",
    "# \\S --- Non-whitespace --- \\S\\S\\S --- Yoyo\n",
    "\n",
    "# + --- Occurs one or more times --- Version \\w-\\w+ --- Version A-b1_1\n",
    "# {3} --- Occurs exactly 3 times --- \\D{3} --- abc\n",
    "# {2,4} --- Occurs 2 to 4 times --- \\d{2,4} --- 123\n",
    "# {3,} --- Occurs 3 or more --- \\w{3,} --- anycharacters\n",
    "# * --- Occurs zero or more times --- ABC* --- AAACC\n",
    "# ? --- Once or more --- plurals? --- plural\n",
    "\n",
    "text = \"My phone number is 855-325-4993\""
   ]
  },
  {
   "cell_type": "code",
   "execution_count": 73,
   "id": "33054731-563b-4b50-950f-131bc900945b",
   "metadata": {},
   "outputs": [],
   "source": [
    "phone = re.search(r'\\d{3}-\\d{3}-\\d{4}', text)"
   ]
  },
  {
   "cell_type": "code",
   "execution_count": 75,
   "id": "cfb5f681-54fc-4bf1-8b99-2034ce306f35",
   "metadata": {},
   "outputs": [
    {
     "data": {
      "text/plain": [
       "<re.Match object; span=(19, 31), match='855-325-4993'>"
      ]
     },
     "execution_count": 75,
     "metadata": {},
     "output_type": "execute_result"
    }
   ],
   "source": [
    "phone"
   ]
  },
  {
   "cell_type": "code",
   "execution_count": 77,
   "id": "d4b2ee82-5b68-46f5-916a-0780a9dda60a",
   "metadata": {},
   "outputs": [
    {
     "data": {
      "text/plain": [
       "'855-325-4993'"
      ]
     },
     "execution_count": 77,
     "metadata": {},
     "output_type": "execute_result"
    }
   ],
   "source": [
    "phone.group()"
   ]
  },
  {
   "cell_type": "code",
   "execution_count": 79,
   "id": "5a340123-245d-4e78-9f0b-9dc60711bf69",
   "metadata": {},
   "outputs": [],
   "source": [
    "phone_pattern = re.compile(r'(\\d{3})-(\\d{3})-(\\d{4})')"
   ]
  },
  {
   "cell_type": "code",
   "execution_count": 81,
   "id": "fdb35d8e-6bcb-4726-b6a1-8991eb8a28e2",
   "metadata": {},
   "outputs": [],
   "source": [
    "results = re.search(phone_pattern, text)"
   ]
  },
  {
   "cell_type": "code",
   "execution_count": 83,
   "id": "738f06b7-bbca-401e-9d5d-1776e3f5d02a",
   "metadata": {},
   "outputs": [
    {
     "data": {
      "text/plain": [
       "'855'"
      ]
     },
     "execution_count": 83,
     "metadata": {},
     "output_type": "execute_result"
    }
   ],
   "source": [
    "results.group(1)"
   ]
  },
  {
   "cell_type": "code",
   "execution_count": 85,
   "id": "790cef48-456c-4ee7-9d3a-677c2e08d870",
   "metadata": {},
   "outputs": [
    {
     "data": {
      "text/plain": [
       "'325'"
      ]
     },
     "execution_count": 85,
     "metadata": {},
     "output_type": "execute_result"
    }
   ],
   "source": [
    "results.group(2)"
   ]
  },
  {
   "cell_type": "code",
   "execution_count": 87,
   "id": "25ae1cde-6d9f-42ea-b204-2cea00870e52",
   "metadata": {},
   "outputs": [
    {
     "data": {
      "text/plain": [
       "'4993'"
      ]
     },
     "execution_count": 87,
     "metadata": {},
     "output_type": "execute_result"
    }
   ],
   "source": [
    "results.group(3)"
   ]
  },
  {
   "cell_type": "markdown",
   "id": "d6fb1bbe-3208-4f2b-acbf-4fa901e06639",
   "metadata": {},
   "source": [
    "### notes python regular expression p3 udemy 24-7-24"
   ]
  },
  {
   "cell_type": "code",
   "execution_count": 94,
   "id": "fb614a27-c90d-433e-b1e8-e84eede734f1",
   "metadata": {},
   "outputs": [
    {
     "data": {
      "text/plain": [
       "<re.Match object; span=(3, 7), match=' dog'>"
      ]
     },
     "execution_count": 94,
     "metadata": {},
     "output_type": "execute_result"
    }
   ],
   "source": [
    "re.search(r'cat | dog', 'The dog is here')"
   ]
  },
  {
   "cell_type": "code",
   "execution_count": 98,
   "id": "27799575-1286-4dbb-8bca-44960b181b01",
   "metadata": {},
   "outputs": [
    {
     "data": {
      "text/plain": [
       "['cat', 'hat', 'sat']"
      ]
     },
     "execution_count": 98,
     "metadata": {},
     "output_type": "execute_result"
    }
   ],
   "source": [
    "re.findall(r'.at', 'The cat in the hat sat there')"
   ]
  },
  {
   "cell_type": "code",
   "execution_count": 100,
   "id": "eba37e0c-8a30-4bac-bb02-facd39887699",
   "metadata": {},
   "outputs": [
    {
     "data": {
      "text/plain": [
       "['e cat', 'e hat', 'splat']"
      ]
     },
     "execution_count": 100,
     "metadata": {},
     "output_type": "execute_result"
    }
   ],
   "source": [
    "re.findall(r'...at', 'The cat in the hat went splat')"
   ]
  },
  {
   "cell_type": "code",
   "execution_count": 106,
   "id": "b70d84c1-2cb7-41da-99da-e02e75da79f2",
   "metadata": {},
   "outputs": [
    {
     "data": {
      "text/plain": [
       "['1']"
      ]
     },
     "execution_count": 106,
     "metadata": {},
     "output_type": "execute_result"
    }
   ],
   "source": [
    "re.findall(r'^\\d',\"1 is a number\") # ^ = starts with, ^\\d = starts with a number"
   ]
  },
  {
   "cell_type": "code",
   "execution_count": 108,
   "id": "dd05fff4-c405-4be1-a19e-ad1cac8d2034",
   "metadata": {},
   "outputs": [
    {
     "data": {
      "text/plain": [
       "[]"
      ]
     },
     "execution_count": 108,
     "metadata": {},
     "output_type": "execute_result"
    }
   ],
   "source": [
    "re.findall(r'^\\d',\"The 2 is a number\")"
   ]
  },
  {
   "cell_type": "code",
   "execution_count": 114,
   "id": "d8b3a2ed-7907-4bed-800e-97a80caf38cf",
   "metadata": {},
   "outputs": [
    {
     "data": {
      "text/plain": [
       "['2']"
      ]
     },
     "execution_count": 114,
     "metadata": {},
     "output_type": "execute_result"
    }
   ],
   "source": [
    "re.findall(r'\\d$',\"The number is 2\") # $ = ends with, \\d$ = ends with a number"
   ]
  },
  {
   "cell_type": "code",
   "execution_count": 116,
   "id": "897df6b1-9a0c-45a2-9810-01a7ef795058",
   "metadata": {},
   "outputs": [
    {
     "data": {
      "text/plain": [
       "[]"
      ]
     },
     "execution_count": 116,
     "metadata": {},
     "output_type": "execute_result"
    }
   ],
   "source": [
    "re.findall(r'\\d$',\"2 is a number\")"
   ]
  },
  {
   "cell_type": "code",
   "execution_count": null,
   "id": "fc5dd418-302d-4cfd-84f7-8d357b681096",
   "metadata": {},
   "outputs": [],
   "source": []
  },
  {
   "cell_type": "code",
   "execution_count": 119,
   "id": "447b3748-7959-4182-8348-1a744464f389",
   "metadata": {},
   "outputs": [],
   "source": [
    "phrase = \"there are 3 number 34 inside 5 this sentence\""
   ]
  },
  {
   "cell_type": "code",
   "execution_count": 121,
   "id": "e7d1ece3-1297-4f1a-a899-19242a2d8568",
   "metadata": {},
   "outputs": [],
   "source": [
    "pattern = r'[^\\d]'"
   ]
  },
  {
   "cell_type": "code",
   "execution_count": 123,
   "id": "7ce8ad7e-038c-4573-9c01-c2a0a9bf68b5",
   "metadata": {},
   "outputs": [
    {
     "data": {
      "text/plain": [
       "['t',\n",
       " 'h',\n",
       " 'e',\n",
       " 'r',\n",
       " 'e',\n",
       " ' ',\n",
       " 'a',\n",
       " 'r',\n",
       " 'e',\n",
       " ' ',\n",
       " ' ',\n",
       " 'n',\n",
       " 'u',\n",
       " 'm',\n",
       " 'b',\n",
       " 'e',\n",
       " 'r',\n",
       " ' ',\n",
       " ' ',\n",
       " 'i',\n",
       " 'n',\n",
       " 's',\n",
       " 'i',\n",
       " 'd',\n",
       " 'e',\n",
       " ' ',\n",
       " ' ',\n",
       " 't',\n",
       " 'h',\n",
       " 'i',\n",
       " 's',\n",
       " ' ',\n",
       " 's',\n",
       " 'e',\n",
       " 'n',\n",
       " 't',\n",
       " 'e',\n",
       " 'n',\n",
       " 'c',\n",
       " 'e']"
      ]
     },
     "execution_count": 123,
     "metadata": {},
     "output_type": "execute_result"
    }
   ],
   "source": [
    "re.findall(pattern, phrase)"
   ]
  },
  {
   "cell_type": "code",
   "execution_count": 125,
   "id": "974083ef-d7b3-4f52-873f-0bd5e3eddf61",
   "metadata": {},
   "outputs": [],
   "source": [
    "pattern = r'[^\\d]+'"
   ]
  },
  {
   "cell_type": "code",
   "execution_count": 127,
   "id": "5bf4735b-c6c0-4318-aa9b-9ac3f56a6833",
   "metadata": {},
   "outputs": [
    {
     "data": {
      "text/plain": [
       "['there are ', ' number ', ' inside ', ' this sentence']"
      ]
     },
     "execution_count": 127,
     "metadata": {},
     "output_type": "execute_result"
    }
   ],
   "source": [
    "re.findall(pattern, phrase)"
   ]
  },
  {
   "cell_type": "code",
   "execution_count": 135,
   "id": "854536a8-8282-4a1b-b685-f8167ca1807c",
   "metadata": {},
   "outputs": [],
   "source": [
    "test_phrase = 'This is a string! But it has puntuation. How can we remove it ?'"
   ]
  },
  {
   "cell_type": "code",
   "execution_count": 137,
   "id": "8a47893c-c703-49c7-806d-d5f517863eaf",
   "metadata": {},
   "outputs": [
    {
     "data": {
      "text/plain": [
       "['This is a string', ' But it has puntuation', ' How can we remove it ']"
      ]
     },
     "execution_count": 137,
     "metadata": {},
     "output_type": "execute_result"
    }
   ],
   "source": [
    "re.findall(r'[^!.?]+', test_phrase)"
   ]
  },
  {
   "cell_type": "code",
   "execution_count": 141,
   "id": "fb8b5967-2f4d-4492-8282-f233ec124508",
   "metadata": {},
   "outputs": [],
   "source": [
    "clean = re.findall(r'[^!.? ]+', test_phrase) # added a space for removing"
   ]
  },
  {
   "cell_type": "code",
   "execution_count": 143,
   "id": "590b4ef7-696c-4b39-83a7-5c4b4d3bcba6",
   "metadata": {},
   "outputs": [
    {
     "data": {
      "text/plain": [
       "'This is a string But it has puntuation How can we remove it'"
      ]
     },
     "execution_count": 143,
     "metadata": {},
     "output_type": "execute_result"
    }
   ],
   "source": [
    "' '.join(clean)"
   ]
  },
  {
   "cell_type": "code",
   "execution_count": null,
   "id": "15fa2122-b20d-494d-9254-3fc3f558bba6",
   "metadata": {},
   "outputs": [],
   "source": []
  },
  {
   "cell_type": "code",
   "execution_count": 146,
   "id": "aa7d26ef-859e-405f-90f7-cd10146e9645",
   "metadata": {},
   "outputs": [],
   "source": [
    "text = 'Only find the hypen-words in this sentence. But you do not know how long-ish they are'"
   ]
  },
  {
   "cell_type": "code",
   "execution_count": 156,
   "id": "e8418f8a-2c0f-4939-b977-327ffb8e7a20",
   "metadata": {},
   "outputs": [],
   "source": [
    "pattern = r'[\\w]+-[\\w]+'"
   ]
  },
  {
   "cell_type": "code",
   "execution_count": 158,
   "id": "90788973-7965-4658-b591-3c4ffe01e0bc",
   "metadata": {},
   "outputs": [
    {
     "data": {
      "text/plain": [
       "['hypen-words', 'long-ish']"
      ]
     },
     "execution_count": 158,
     "metadata": {},
     "output_type": "execute_result"
    }
   ],
   "source": [
    "re.findall(pattern, text)"
   ]
  },
  {
   "cell_type": "code",
   "execution_count": 160,
   "id": "d1774c3c-2aeb-4fe2-94d4-26accfce25fe",
   "metadata": {},
   "outputs": [],
   "source": [
    "text = 'hello, would you like some catfish ?'\n",
    "texttwo = 'Hello, would you like to take catnap ?'\n",
    "textthree = 'Hello, have you seen this caterpillar ?'"
   ]
  },
  {
   "cell_type": "code",
   "execution_count": 166,
   "id": "d84e6eb1-a552-4db6-84a1-399ee54bfe55",
   "metadata": {},
   "outputs": [
    {
     "data": {
      "text/plain": [
       "<re.Match object; span=(27, 34), match='catfish'>"
      ]
     },
     "execution_count": 166,
     "metadata": {},
     "output_type": "execute_result"
    }
   ],
   "source": [
    "re.search(r'cat(fish|nap|claw)', text)"
   ]
  },
  {
   "cell_type": "code",
   "execution_count": 170,
   "id": "2218e677-f46b-450c-a2b3-e1007e40b718",
   "metadata": {},
   "outputs": [
    {
     "data": {
      "text/plain": [
       "<re.Match object; span=(30, 36), match='catnap'>"
      ]
     },
     "execution_count": 170,
     "metadata": {},
     "output_type": "execute_result"
    }
   ],
   "source": [
    "re.search(r'cat(fish|nap|claw)', texttwo)"
   ]
  },
  {
   "cell_type": "code",
   "execution_count": 174,
   "id": "93d94b4d-d744-4710-8812-ad0d3fb5c4bf",
   "metadata": {},
   "outputs": [
    {
     "data": {
      "text/plain": [
       "<re.Match object; span=(26, 37), match='caterpillar'>"
      ]
     },
     "execution_count": 174,
     "metadata": {},
     "output_type": "execute_result"
    }
   ],
   "source": [
    "re.search(r'cat(fish|nap|erpillar)', textthree)"
   ]
  },
  {
   "cell_type": "code",
   "execution_count": null,
   "id": "397997a8-d713-40be-b55c-15e4c8d6686c",
   "metadata": {},
   "outputs": [],
   "source": []
  }
 ],
 "metadata": {
  "kernelspec": {
   "display_name": "Python 3 (ipykernel)",
   "language": "python",
   "name": "python3"
  },
  "language_info": {
   "codemirror_mode": {
    "name": "ipython",
    "version": 3
   },
   "file_extension": ".py",
   "mimetype": "text/x-python",
   "name": "python",
   "nbconvert_exporter": "python",
   "pygments_lexer": "ipython3",
   "version": "3.11.7"
  }
 },
 "nbformat": 4,
 "nbformat_minor": 5
}
