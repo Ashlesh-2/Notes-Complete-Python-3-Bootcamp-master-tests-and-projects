{
 "cells": [
  {
   "cell_type": "markdown",
   "metadata": {},
   "source": [
    "___\n",
    "\n",
    "<a href='https://www.udemy.com/user/joseportilla/'><img src='../Pierian_Data_Logo.png'/></a>\n",
    "___\n",
    "<center><em>Content Copyright by Pierian Data</em></center>"
   ]
  },
  {
   "cell_type": "markdown",
   "metadata": {},
   "source": [
    "# Opening and Reading Files\n",
    "\n",
    "So far we've discussed how to open files manually, one by one. Let's explore how we can open files programatically. "
   ]
  },
  {
   "cell_type": "markdown",
   "metadata": {
    "collapsed": true,
    "jupyter": {
     "outputs_hidden": true
    }
   },
   "source": [
    "_____"
   ]
  },
  {
   "cell_type": "markdown",
   "metadata": {},
   "source": [
    "### Review: Understanding File Paths"
   ]
  },
  {
   "cell_type": "code",
   "execution_count": 11,
   "metadata": {},
   "outputs": [
    {
     "data": {
      "text/plain": [
       "'C:\\\\Users\\\\Ashu\\\\Downloads\\\\Complete-Python-3-Bootcamp-master tests and projects'"
      ]
     },
     "execution_count": 11,
     "metadata": {},
     "output_type": "execute_result"
    }
   ],
   "source": [
    "pwd"
   ]
  },
  {
   "cell_type": "markdown",
   "metadata": {},
   "source": [
    "### Create Practice File\n",
    "\n",
    "We will begin by creating a practice text file that we will be using for demonstration."
   ]
  },
  {
   "cell_type": "code",
   "execution_count": 14,
   "metadata": {},
   "outputs": [],
   "source": [
    "f = open('practice.txt','w+')"
   ]
  },
  {
   "cell_type": "code",
   "execution_count": 16,
   "metadata": {},
   "outputs": [],
   "source": [
    "f.write('this is a test string')\n",
    "f.close()"
   ]
  },
  {
   "cell_type": "markdown",
   "metadata": {},
   "source": [
    "### Getting Directories\n",
    "\n",
    "Python has a built-in [os module](https://docs.python.org/3/library/os.html) that allows us to use operating system dependent functionality.\n",
    "\n",
    "You can get the current directory:"
   ]
  },
  {
   "cell_type": "code",
   "execution_count": 19,
   "metadata": {},
   "outputs": [],
   "source": [
    "import os"
   ]
  },
  {
   "cell_type": "code",
   "execution_count": 21,
   "metadata": {},
   "outputs": [
    {
     "data": {
      "text/plain": [
       "'C:\\\\Users\\\\Ashu\\\\Downloads\\\\Complete-Python-3-Bootcamp-master tests and projects'"
      ]
     },
     "execution_count": 21,
     "metadata": {},
     "output_type": "execute_result"
    }
   ],
   "source": [
    "os.getcwd()"
   ]
  },
  {
   "cell_type": "markdown",
   "metadata": {},
   "source": [
    "### Listing Files in a Directory\n",
    "\n",
    "You can also use the os module to list directories."
   ]
  },
  {
   "cell_type": "code",
   "execution_count": 24,
   "metadata": {},
   "outputs": [
    {
     "data": {
      "text/plain": [
       "['.ipynb_checkpoints',\n",
       " '01-Milestone Project 2 - Assignment - ashlesh.ipynb',\n",
       " '01-Opening-and-Reading-Files-Folders.ipynb',\n",
       " '02-Decorators Homework.ipynb',\n",
       " '02-Errors and Exceptions Homework.ipynb',\n",
       " '02-Iterators and Generators Homework udemy.ipynb',\n",
       " '02-Milestone Project 1 - Walkthrough Steps Workbook Ashlesh.ipynb',\n",
       " '02-Milestone Project 1 - Walkthrough Steps Workbook solution by udemy Ashlesh.ipynb',\n",
       " '02-Milestone Project 2 - Walkthrough Steps Workbook - ashlesh code along.ipynb',\n",
       " '02-Object Oriented Programming Homework ashlesh.ipynb',\n",
       " '03-Function Practice Exercises udemy ashlesh.ipynb',\n",
       " '04-OOP Challenge.ipynb',\n",
       " '07-Statements Assessment Test.ipynb',\n",
       " '08-Functions and Methods Homework ashlesh udemy.ipynb',\n",
       " '09-Objects and Data Structures Assessment Test.ipynb',\n",
       " 'Displaying Information, accepting user input, validate input udemy ashlesh.ipynb',\n",
       " 'generators in python ashlesh udemy.ipynb',\n",
       " 'Lambda Expression, Map and Filter Udemy ashlesh.ipynb',\n",
       " 'Milestone project 2 card game ashlesh.ipynb',\n",
       " 'nested statements and scope udemy ashlesh.ipynb',\n",
       " 'practice.txt',\n",
       " 'simple user interaction practice myself udemy ashlesh.ipynb',\n",
       " 'Simple user interaction udemy ashlesh.ipynb']"
      ]
     },
     "execution_count": 24,
     "metadata": {},
     "output_type": "execute_result"
    }
   ],
   "source": [
    "# In your current directory\n",
    "os.listdir()"
   ]
  },
  {
   "cell_type": "code",
   "execution_count": 26,
   "metadata": {},
   "outputs": [
    {
     "data": {
      "text/plain": [
       "['All Users',\n",
       " 'Ashu',\n",
       " 'Default',\n",
       " 'Default User',\n",
       " 'desktop.ini',\n",
       " 'Public',\n",
       " 'YourUsername']"
      ]
     },
     "execution_count": 26,
     "metadata": {},
     "output_type": "execute_result"
    }
   ],
   "source": [
    "# In any directory you pass\n",
    "os.listdir(\"C:\\\\Users\")"
   ]
  },
  {
   "cell_type": "markdown",
   "metadata": {
    "collapsed": true,
    "jupyter": {
     "outputs_hidden": true
    }
   },
   "source": [
    "### Moving Files \n",
    "\n",
    "You can use the built-in **shutil** module to to move files to different locations. Keep in mind, there are permission restrictions, for example if you are logged in a User A, you won't be able to make changes to the top level Users folder without the proper permissions, [more info](https://stackoverflow.com/questions/23253439/shutil-movescr-dst-gets-me-ioerror-errno-13-permission-denied-and-3-more-e)"
   ]
  },
  {
   "cell_type": "code",
   "execution_count": 29,
   "metadata": {},
   "outputs": [],
   "source": [
    "import shutil"
   ]
  },
  {
   "cell_type": "code",
   "execution_count": 31,
   "metadata": {},
   "outputs": [
    {
     "data": {
      "text/plain": [
       "'C:\\\\Users\\\\Ashu\\\\Downloads\\\\practice.txt'"
      ]
     },
     "execution_count": 31,
     "metadata": {},
     "output_type": "execute_result"
    }
   ],
   "source": [
    "shutil.move('practice.txt','C:\\\\Users\\\\Ashu\\\\Downloads')"
   ]
  },
  {
   "cell_type": "code",
   "execution_count": 35,
   "metadata": {},
   "outputs": [
    {
     "data": {
      "text/plain": [
       "[' ashu-thrupti project.ipynb',\n",
       " '.ipynb_checkpoints',\n",
       " '01-Numbers udemy ashlesh.ipynb',\n",
       " '1.digital logic circuits.pptx',\n",
       " '1.ipynb',\n",
       " '10-Objects and Data Structures Assessment Test-Solution.ipynb',\n",
       " '100-pandas-puzzles ashu.ipynb',\n",
       " '100-pandas-puzzles-with-solutions.ipynb',\n",
       " '100-pandas-puzzles.ipynb',\n",
       " '1487242778a.jpg',\n",
       " '2.ipynb',\n",
       " '20210116_171636.jpg',\n",
       " '20230322_141248.jpg',\n",
       " '20230625_144251.jpg',\n",
       " '20230626_221043.jpg',\n",
       " '3 BCA Khavya Samrudhi new.pdf',\n",
       " '3.ipynb',\n",
       " '4.ipynb',\n",
       " '4_Fucntions.pdf',\n",
       " '5.ipynb',\n",
       " '6.ipynb',\n",
       " '6th Sem',\n",
       " 'alcohol consumption.ipynb',\n",
       " 'app.py',\n",
       " 'archive (1).zip',\n",
       " 'archive (2).zip',\n",
       " 'archive.zip',\n",
       " 'arduino-ide_nightly-20230213_Windows_64bit',\n",
       " 'arduino-ide_nightly-20230213_Windows_64bit.zip',\n",
       " 'ASHLESH MAILMERGE STUDENT MARKS SHEET (1).docx',\n",
       " 'ASHLESH MAILMERGE STUDENT MARKS SHEET 2.docx',\n",
       " 'ASHLESH MAILMERGE STUDENT MARKS SHEET.docx',\n",
       " 'Ashlesh Resume.docx',\n",
       " 'Ashlesh Resume.pdf',\n",
       " 'ashu cini (1).pdf',\n",
       " 'ashu cini (2).docx',\n",
       " 'ashu cini (2).pdf',\n",
       " 'ashu cini.docx',\n",
       " 'ashu cini.docx.pdf',\n",
       " 'ashu cini.pdf',\n",
       " 'Assignment 1.pdf',\n",
       " 'AssignmentDA2.pdf',\n",
       " 'Babals.pdf',\n",
       " 'babynames.ipynb',\n",
       " 'BASHU.C',\n",
       " 'BCA-I_Assign-2.pdf',\n",
       " 'bjpfile.csv',\n",
       " 'book-recommender-system-master',\n",
       " 'book-recommender-system-master (1).zip',\n",
       " 'book-recommender-system-master.zip',\n",
       " 'Books.csv',\n",
       " 'CCNA-lab-Manual.pdf',\n",
       " 'chap (1).pdf',\n",
       " 'chap.pdf',\n",
       " 'chip sort (1).ipynb',\n",
       " 'chip sort.ipynb',\n",
       " 'chipo.ipynb',\n",
       " 'chipotle.tsv',\n",
       " 'cinibooktune',\n",
       " 'CN.txt',\n",
       " 'cn_exp_1.pdf',\n",
       " 'college-building.jpg',\n",
       " 'comments.txt',\n",
       " 'Complete-Python-3-Bootcamp-master tests and projects',\n",
       " 'Complete-Python-3-Bootcamp-master.zip',\n",
       " 'Copy of Womens Day - Made with PosterMyWall.jpg',\n",
       " 'CQ_LL.C',\n",
       " 'credits.csv',\n",
       " 'CRYPT_DAC.zip',\n",
       " 'Cyber Security_1.pptx',\n",
       " 'DA-QB.pdf',\n",
       " 'DanceStudio',\n",
       " 'databaseprogram.docx',\n",
       " 'DB.Browser.for.SQLite-3.12.2-win32.msi',\n",
       " 'DBMS Assignment 3.pdf',\n",
       " 'DBMS- Assignment 4 & 5.pdf',\n",
       " 'DBMS- First 5 questions.pdf',\n",
       " 'DBMS- Next 5 questions (1).pdf',\n",
       " 'deekcerti (1).pdf',\n",
       " 'deekcerti (2).pdf',\n",
       " 'deekcerti (3).pdf',\n",
       " 'deekcerti (4).pdf',\n",
       " 'deekcerti.pdf',\n",
       " 'deekreport.pdf',\n",
       " 'DEEKSHITHA 1ST - MERGE - COMPRESS.mp4',\n",
       " 'DEEKSHITHA 1ST - MERGE.mp4',\n",
       " 'DEEKSHITHA 1ST.mp4',\n",
       " 'DEEKSHITHA 2ND.mp4',\n",
       " 'Default Folder (15).pdf',\n",
       " 'delete.css',\n",
       " 'Designer (1).png',\n",
       " 'Designer.png',\n",
       " 'desktop.ini',\n",
       " 'Discrete Maths Assignment 2.pdf',\n",
       " 'DocScanner Feb 27, 2023 8-17 PM.pdf',\n",
       " 'dop.jpg',\n",
       " 'dop2.jpg',\n",
       " 'DS-1.ipynb',\n",
       " 'DSC_8248.jpeg',\n",
       " 'E-Content notes.pptx',\n",
       " 'EDA.ipynb',\n",
       " 'ELECTRONIC CONTENT DESIGN.pptx',\n",
       " 'Elon_data.csv',\n",
       " 'emailsend.docx',\n",
       " 'en.openfoodfacts.org.products.tsv.zip',\n",
       " 'euro.ipynb',\n",
       " 'Euro_2012_stats_TEAM.csv',\n",
       " 'Exercise - II (1).ipynb',\n",
       " 'Exercise - II.ipynb',\n",
       " 'Exercises (1).ipynb',\n",
       " 'Exercises (2).ipynb',\n",
       " 'Exercises (3).ipynb',\n",
       " 'Exercises (4).ipynb',\n",
       " 'Exercises (5).ipynb',\n",
       " 'Exercises (6).ipynb',\n",
       " 'Exercises 24-01-2024.ipynb',\n",
       " 'Exercises.ipynb',\n",
       " 'Facial-Expression-Recognition-master',\n",
       " 'Facial-Expression-Recognition-master.zip',\n",
       " 'fee concession.docx',\n",
       " 'fiza table.pdf',\n",
       " 'FIZAINTERNSHIP (1).pdf',\n",
       " 'FIZAINTERNSHIP (2).pdf',\n",
       " 'FIZAINTERNSHIP.pdf',\n",
       " 'FIZZACERTIFICATE.pdf',\n",
       " 'fizzainternship (1).pdf',\n",
       " 'fizzainternship (2).pdf',\n",
       " 'fizzainternship.pdf',\n",
       " 'flower info vac.txt',\n",
       " 'foodproducts.tsv',\n",
       " 'google books api key.txt',\n",
       " 'graphs.py',\n",
       " 'guessing game ashlesh udemy.ipynb',\n",
       " 'hindi assignment 2 merged.pdf',\n",
       " 'Hindi computer related notes 3rd sem BCA.pdf',\n",
       " 'IMG-20230625-WA0003.jpg',\n",
       " 'IMG-20230625-WA0006.jpg',\n",
       " 'IMG-20230625-WA0008.jpg',\n",
       " 'IMG-20230625-WA0009.jpg',\n",
       " 'IMG-20230625-WA0011 (1).jpg',\n",
       " 'IMG-20230625-WA0014 (1).jpg',\n",
       " 'IMG-20230625-WA0014.jpg',\n",
       " 'IMG-20230625-WA0039.jpg',\n",
       " 'IMG-20230626-WA0007.jpg',\n",
       " 'IMG-20230626-WA0016.jpg',\n",
       " 'IMG-20230626-WA0018.jpg',\n",
       " 'IMG20230210112221.jpg',\n",
       " 'IMG20230210112237.jpg',\n",
       " 'IMG20230210112309.jpg',\n",
       " 'IMG20230210112312.jpg',\n",
       " 'IMG20230210112319.jpg',\n",
       " 'index hyper.docx',\n",
       " 'indialargest.csv',\n",
       " 'INDIAN FLAG (1).wmv',\n",
       " 'INDIAN FLAG.wmv',\n",
       " 'internal data read and write (1).odt',\n",
       " 'internal data read and write.odt',\n",
       " 'internetship report on sushmitha (1).docx',\n",
       " 'internetship report on sushmitha.docx',\n",
       " 'internship report ashlesh.docx',\n",
       " 'INTRODUCTION_Thuppi_php_agro[1] changes.docx',\n",
       " 'iris.csv',\n",
       " 'iris.data',\n",
       " 'iris.names',\n",
       " 'iris.xlsx',\n",
       " 'jdk-18_windows-x64_bin.zip',\n",
       " 'JITENDAR.docx',\n",
       " 'JITENDAR.pdf',\n",
       " 'jumme ki rath haa.mpeg',\n",
       " 'kamii.mpeg',\n",
       " 'kisaan Thupii.pdf',\n",
       " 'Lab Programs (Excel) (1).pdf',\n",
       " 'Lab Programs (Excel).pdf',\n",
       " 'LabList-PartA-DA.pdf',\n",
       " 'Lakshmanager.docx',\n",
       " 'lakshmi-01-Image-Exercise.ipynb',\n",
       " 'lakshmi-01-Web-Scraping-Exercises.ipynb',\n",
       " 'lakshmi-02-Errors and Exceptions Homework.ipynb',\n",
       " 'lakshmi-02-Iterators and Generators Homework.ipynb',\n",
       " 'lakshmi-02-Milestone Project 1 - Walkthrough Steps Workbook.ipynb',\n",
       " 'lakshmi-02-Milestone Project 2 - Walkthrough Steps Workbook.ipynb',\n",
       " 'lakshmi-02-Object Oriented Programming Homework.ipynb',\n",
       " 'lakshmi-02-PDFs-Spreadsheets-Puzzle.ipynb',\n",
       " 'lakshmi-03-Function Practice Exercises.ipynb',\n",
       " 'lakshmi-04-OOP Challenge.ipynb',\n",
       " 'lakshmi-06-Advanced Python Objects Test.ipynb',\n",
       " 'lakshmi-07-Statements Assessment Test.ipynb',\n",
       " 'lakshmi-08-Advanced-Modules-Exercise-Solutions.ipynb',\n",
       " 'lakshmi-08-Functions and Methods Homework.ipynb',\n",
       " 'lakshmi-09-Guessing Game Challenge.ipynb',\n",
       " 'lakshmi-09-Objects and Data Structures Assessment Test.ipynb',\n",
       " 'large.csv',\n",
       " 'LearnDigital--main',\n",
       " 'LearnDigital--main (1).zip',\n",
       " 'LearnDigital--main.zip',\n",
       " 'lineplot.py',\n",
       " 'Lingua Franca III.pdf',\n",
       " 'list.txt',\n",
       " 'loginscreen (1).docx',\n",
       " 'loginscreen.docx',\n",
       " 'MAD Manual-1_240405_130150.pdf',\n",
       " 'Meerabhai hindi notes.pdf',\n",
       " 'Menu_driven.docx',\n",
       " 'ML  LAB MANUAL(VIM).pdf',\n",
       " 'ml 4th.ipynb',\n",
       " 'ML lab programs.ipynb',\n",
       " 'ml program 1.ipynb',\n",
       " 'modi01.csv',\n",
       " 'modi02.csv',\n",
       " 'modification.docx',\n",
       " 'modi_reviews.csv',\n",
       " 'mongosh-2.2.4-win32-x64.zip',\n",
       " 'movies.csv',\n",
       " 'movies.pkl',\n",
       " 'MRMax_tweets_data.csv',\n",
       " 'nanu nandhinii.mpeg',\n",
       " 'navkar-mantra-by-lata-mangeshkar.mp3',\n",
       " 'New folder',\n",
       " 'new kisaan.docx',\n",
       " 'new kisaan.pdf',\n",
       " 'New Microsoft Word Document.docx',\n",
       " 'news-website-main',\n",
       " 'news-website-main.zip',\n",
       " 'number system.docx',\n",
       " 'occupation.ipynb',\n",
       " 'open-clapper-board-with-film-strip-background-design.zip',\n",
       " 'OracleXE112_Win64.zip',\n",
       " 'OracleXE213_Win64',\n",
       " 'OracleXE213_Win64.zip',\n",
       " 'output.csv',\n",
       " 'p11.html',\n",
       " 'p4.html',\n",
       " 'pavan.docx',\n",
       " 'pavan.pdf',\n",
       " 'pdf_converter_202202032802.pdf',\n",
       " 'pdf_converter_202202033733.pdf',\n",
       " 'phpMyAdmin-5.2.0-all-languages.zip',\n",
       " 'plant-village-metadata.json',\n",
       " 'practice.txt',\n",
       " 'PRANAG INTERNSHIP CERTIFICATE COLL.docx',\n",
       " 'PRANB.C',\n",
       " 'project in class, customer churn.ipynb',\n",
       " 'Project web scraping.ipynb',\n",
       " 'rahul01.csv',\n",
       " 'rahul02.csv',\n",
       " 'rahul_reviews.csv',\n",
       " 'Ranjith 1234[1].docx',\n",
       " 'RANJITH 1ST - MERGE - COMPRESS.mp4',\n",
       " 'RANJITH 1ST - MERGE.mp4',\n",
       " 'RANJITH 1ST.mp4',\n",
       " 'RANJITH 2ND.mp4',\n",
       " 'Ranjith Resume.docx',\n",
       " 'Ratings.csv',\n",
       " 'record.docx',\n",
       " 'regiment.ipynb',\n",
       " 'RENNAISSANCE COMPANY internship pranag.docx',\n",
       " 'RENNAISSANCE COMPANY internship pranag.pdf',\n",
       " 'Resume bca (1).docx',\n",
       " 'Resume bca ashlesh (1).docx',\n",
       " 'Resume bca ashlesh.docx',\n",
       " 'Resume bca.docx',\n",
       " \"Ritendra's Resume (1).pdf\",\n",
       " \"Ritendra's Resume.pdf\",\n",
       " 'rubixe COMPANY internship pranag.docx',\n",
       " 'Rubixe web scraping internship project Ashlesh.ipynb',\n",
       " 'rubixe web scraping project - Ashlesh JH.ipynb',\n",
       " 'S1_Python_Introduction.pdf',\n",
       " 'S2_Python_Installation_EnvSetup_5c53fa60-f747-4376-813f-028d6d97d6bc.pdf',\n",
       " 'S3_PythonBasicSyntaxes.pdf',\n",
       " 'S4 (1).pdf',\n",
       " 'S4.pdf',\n",
       " 'save.ipynb',\n",
       " 'scrape.py',\n",
       " 'scrape_code.ipynb',\n",
       " 'security.htm',\n",
       " 'sendingandreceivingsms.docx',\n",
       " 'sf salaries analysis.ipynb',\n",
       " 'shadow final.docx',\n",
       " 'similarity.pkl',\n",
       " 'smps-power-supply-FN2TPP.jpg',\n",
       " 'Snapchat-1497246485.jpg',\n",
       " 'soordas ke pad.pdf',\n",
       " 'spotify_millsongdata.csv',\n",
       " 'SRNA1.jpg',\n",
       " 'STACKS.pptx',\n",
       " 'stderr.txt',\n",
       " 'stdout.txt',\n",
       " 'student-mat (1).csv',\n",
       " 'student-mat.csv',\n",
       " 'studentalcohol.ipynb',\n",
       " 'swag sa karenge sabka swagath.mpeg',\n",
       " 'sylabus of bca1.pdf',\n",
       " 'tel_churn.csv',\n",
       " 'TF.SLIDE MAAZ NOT ONCLICK.pptx',\n",
       " 'THUPPI.docx',\n",
       " 'Tips Data Exploration Questionaire.docx',\n",
       " 'Tips ML Questionaire.docx',\n",
       " 'Tips Questionaire.docx',\n",
       " 'tired of problems.mpeg',\n",
       " 'tmdb request.ipynb',\n",
       " 'train.csv',\n",
       " 'Turbo.C.3.2.zip',\n",
       " 'tweet01.ipynb',\n",
       " 'twitter scraping kothaed.ipynb',\n",
       " 'twitter-scraper-tut.ipynb',\n",
       " 'Twitter_Web_Scraping.ipynb',\n",
       " 'UI.docx',\n",
       " 'Unit-1 python programming (1).pdf',\n",
       " 'Unit-1 python programming.pdf',\n",
       " 'Unit-3 File.pptx',\n",
       " 'Untitled.ipynb',\n",
       " 'untitled.txt',\n",
       " 'Untitled1.ipynb',\n",
       " 'Untitled2 (1).ipynb',\n",
       " 'Untitled2.ipynb',\n",
       " 'uscrimerates.ipynb',\n",
       " 'users (1).ipynb',\n",
       " 'Users.csv',\n",
       " 'users.ipynb',\n",
       " 'US_Crime_Rates_1960_2014 (1).csv',\n",
       " 'US_Crime_Rates_1960_2014.csv',\n",
       " 'Vande Mataram - Lata Mangeshkar.mp3',\n",
       " 'vertopal.com_uscrimerates.html',\n",
       " 'vga-port-on-a-laptop-pc-personal-computer-2H1RKE7.jpg',\n",
       " 'view-3d-cinema-film-reel (1).jpg',\n",
       " 'view-3d-cinema-film-reel.jpg',\n",
       " 'Warm up project 1.ipynb',\n",
       " 'Warm up project 2.ipynb',\n",
       " 'WEB SCRAP NEW SAHIL.pptx',\n",
       " 'web scraping (1).ipynb',\n",
       " 'web scraping.ipynb',\n",
       " 'web scrapping nikhil.pptx',\n",
       " 'WEBLINKS TO ADARSH GROUP OF INSTITUTIONS ASHLESH.docx',\n",
       " 'WEBLINKS TO ADARSH GROUP OF INSTITUTIONS ASHLESH.pdf',\n",
       " 'web_scrapping_PRANAG_internship_rubixe.pptx',\n",
       " 'WEB_SCRAP_NEW_PRANAG.pptx',\n",
       " 'WhatsApp Image 2024-01-23 at 19.47.34 (1).jpeg',\n",
       " 'WhatsApp Image 2024-01-23 at 19.47.35 (1).jpeg',\n",
       " 'WhatsApp Image 2024-01-23 at 19.47.35 (2).jpeg',\n",
       " 'WhatsApp Image 2024-01-23 at 19.47.35.jpeg',\n",
       " 'WhatsApp Image 2024-01-23 at 19.47.36 (1).jpeg',\n",
       " 'WhatsApp Image 2024-01-23 at 19.47.36.jpeg',\n",
       " 'WhatsApp Image 2024-01-23 at 19.47.37 (1).jpeg',\n",
       " 'WhatsApp Image 2024-01-23 at 19.47.37 (2).jpeg',\n",
       " 'WhatsApp Image 2024-01-23 at 19.47.37.jpeg',\n",
       " 'WhatsApp Image 2024-01-23 at 19.47.38 (1).jpeg',\n",
       " 'WhatsApp Image 2024-01-23 at 19.47.38.jpeg',\n",
       " 'WhatsApp Image 2024-01-23 at 19.47.39.jpeg',\n",
       " 'WhatsApp Unknown 2024-01-22 at 16.02.01.zip',\n",
       " 'WhatsApp Unknown 2024-01-22 at 16.02.08.zip',\n",
       " 'WhatsApp Unknown 2024-01-24 at 14.40.31.zip',\n",
       " 'wind.data',\n",
       " 'wind.ipynb',\n",
       " 'winequality-white (1).csv',\n",
       " 'winequality-white.csv',\n",
       " 'wp print 2.pdf',\n",
       " 'wp print.pdf',\n",
       " 'yogesh PPT.pptx',\n",
       " 'Zomato Data Analysis Questionaire.docx',\n",
       " 'Zomato Questionaire.docx',\n",
       " 'zomato.csv',\n",
       " 'zomato.csv.zip',\n",
       " 'zomato.ipynb',\n",
       " 'कंप्यूटर.pdf',\n",
       " '—Pngtree—the background of the movie_869718 (1).png',\n",
       " '—Pngtree—the background of the movie_869718.png']"
      ]
     },
     "execution_count": 35,
     "metadata": {},
     "output_type": "execute_result"
    }
   ],
   "source": [
    "os.listdir('C:\\\\Users\\\\Ashu\\\\Downloads')"
   ]
  },
  {
   "cell_type": "code",
   "execution_count": 37,
   "metadata": {},
   "outputs": [
    {
     "data": {
      "text/plain": [
       "'C:\\\\Users\\\\Ashu\\\\Downloads\\\\Complete-Python-3-Bootcamp-master tests and projects\\\\practice.txt'"
      ]
     },
     "execution_count": 37,
     "metadata": {},
     "output_type": "execute_result"
    }
   ],
   "source": [
    "shutil.move('C:\\\\Users\\\\Ashu\\\\Downloads\\\\practice.txt',os.getcwd())"
   ]
  },
  {
   "cell_type": "code",
   "execution_count": 13,
   "metadata": {},
   "outputs": [
    {
     "data": {
      "text/plain": [
       "['.ipynb_checkpoints',\n",
       " '00-Collections-Module.ipynb',\n",
       " '01-Datetime-Module.ipynb',\n",
       " '01-Opening-and-Reading-Files.ipynb',\n",
       " '02-Math-and-Random-Module.ipynb',\n",
       " '03-Python Debugger (pdb).ipynb',\n",
       " '04-Timing your code - timeit.ipynb',\n",
       " '05-Overview-of-Regular-Expressions.ipynb',\n",
       " '06-Unzipping-and-Zipping-Files.ipynb',\n",
       " '07-OS-Module.ipynb',\n",
       " '08-Advanced-Python-Module-Exercise',\n",
       " 'comp_file.zip',\n",
       " 'Example_Top_Level',\n",
       " 'extracted_content',\n",
       " 'new_file.txt',\n",
       " 'new_file2.txt',\n",
       " 'practice.txt']"
      ]
     },
     "execution_count": 13,
     "metadata": {},
     "output_type": "execute_result"
    }
   ],
   "source": [
    "os.listdir()"
   ]
  },
  {
   "cell_type": "markdown",
   "metadata": {},
   "source": [
    "### Deleting Files\n",
    "____\n",
    "**NOTE: The os module provides 3 methods for deleting files:**\n",
    "* os.unlink(path) which deletes a file at the path your provide\n",
    "* os.rmdir(path) which deletes a folder (folder must be empty) at the path your provide\n",
    "* shutil.rmtree(path) this is the most dangerous, as it will remove all files and folders contained in the path.\n",
    "**All of these methods can not be reversed! Which means if you make a mistake you won't be able to recover the file. Instead we will use the send2trash module. A safer alternative that sends deleted files to the trash bin instead of permanent removal.**\n",
    "___\n",
    "\n",
    "Install the send2trash module with:\n",
    "\n",
    "    pip install send2trash\n",
    "    \n",
    "at your command line."
   ]
  },
  {
   "cell_type": "code",
   "execution_count": 50,
   "metadata": {},
   "outputs": [],
   "source": [
    "import send2trash"
   ]
  },
  {
   "cell_type": "code",
   "execution_count": 52,
   "metadata": {},
   "outputs": [
    {
     "data": {
      "text/plain": [
       "['.ipynb_checkpoints',\n",
       " '01-Milestone Project 2 - Assignment - ashlesh.ipynb',\n",
       " '01-Opening-and-Reading-Files-Folders.ipynb',\n",
       " '02-Decorators Homework.ipynb',\n",
       " '02-Errors and Exceptions Homework.ipynb',\n",
       " '02-Iterators and Generators Homework udemy.ipynb',\n",
       " '02-Milestone Project 1 - Walkthrough Steps Workbook Ashlesh.ipynb',\n",
       " '02-Milestone Project 1 - Walkthrough Steps Workbook solution by udemy Ashlesh.ipynb',\n",
       " '02-Milestone Project 2 - Walkthrough Steps Workbook - ashlesh code along.ipynb',\n",
       " '02-Object Oriented Programming Homework ashlesh.ipynb',\n",
       " '03-Function Practice Exercises udemy ashlesh.ipynb',\n",
       " '04-OOP Challenge.ipynb',\n",
       " '07-Statements Assessment Test.ipynb',\n",
       " '08-Functions and Methods Homework ashlesh udemy.ipynb',\n",
       " '09-Objects and Data Structures Assessment Test.ipynb',\n",
       " 'Displaying Information, accepting user input, validate input udemy ashlesh.ipynb',\n",
       " 'generators in python ashlesh udemy.ipynb',\n",
       " 'Lambda Expression, Map and Filter Udemy ashlesh.ipynb',\n",
       " 'Milestone project 2 card game ashlesh.ipynb',\n",
       " 'nested statements and scope udemy ashlesh.ipynb',\n",
       " 'practice.txt',\n",
       " 'simple user interaction practice myself udemy ashlesh.ipynb',\n",
       " 'Simple user interaction udemy ashlesh.ipynb']"
      ]
     },
     "execution_count": 52,
     "metadata": {},
     "output_type": "execute_result"
    }
   ],
   "source": [
    "os.listdir()"
   ]
  },
  {
   "cell_type": "code",
   "execution_count": 54,
   "metadata": {},
   "outputs": [],
   "source": [
    "send2trash.send2trash('practice.txt')"
   ]
  },
  {
   "cell_type": "code",
   "execution_count": 58,
   "metadata": {},
   "outputs": [
    {
     "data": {
      "text/plain": [
       "['.ipynb_checkpoints',\n",
       " '01-Milestone Project 2 - Assignment - ashlesh.ipynb',\n",
       " '01-Opening-and-Reading-Files-Folders.ipynb',\n",
       " '02-Decorators Homework.ipynb',\n",
       " '02-Errors and Exceptions Homework.ipynb',\n",
       " '02-Iterators and Generators Homework udemy.ipynb',\n",
       " '02-Milestone Project 1 - Walkthrough Steps Workbook Ashlesh.ipynb',\n",
       " '02-Milestone Project 1 - Walkthrough Steps Workbook solution by udemy Ashlesh.ipynb',\n",
       " '02-Milestone Project 2 - Walkthrough Steps Workbook - ashlesh code along.ipynb',\n",
       " '02-Object Oriented Programming Homework ashlesh.ipynb',\n",
       " '03-Function Practice Exercises udemy ashlesh.ipynb',\n",
       " '04-OOP Challenge.ipynb',\n",
       " '07-Statements Assessment Test.ipynb',\n",
       " '08-Functions and Methods Homework ashlesh udemy.ipynb',\n",
       " '09-Objects and Data Structures Assessment Test.ipynb',\n",
       " 'Displaying Information, accepting user input, validate input udemy ashlesh.ipynb',\n",
       " 'generators in python ashlesh udemy.ipynb',\n",
       " 'Lambda Expression, Map and Filter Udemy ashlesh.ipynb',\n",
       " 'Milestone project 2 card game ashlesh.ipynb',\n",
       " 'nested statements and scope udemy ashlesh.ipynb',\n",
       " 'simple user interaction practice myself udemy ashlesh.ipynb',\n",
       " 'Simple user interaction udemy ashlesh.ipynb']"
      ]
     },
     "execution_count": 58,
     "metadata": {},
     "output_type": "execute_result"
    }
   ],
   "source": [
    "os.listdir()"
   ]
  },
  {
   "cell_type": "code",
   "execution_count": null,
   "metadata": {},
   "outputs": [],
   "source": []
  },
  {
   "cell_type": "markdown",
   "metadata": {},
   "source": [
    "### Walking through a directory\n",
    "\n",
    "Often you will just need to \"walk\" through a directory, that is visit every file or folder and check to see if a file is in the directory, and then perhaps do something with that file. Usually recursively walking through every file and folder in a directory would be quite tricky to program, but luckily the os module has a direct method call for this called os.walk(). Let's explore how it works."
   ]
  },
  {
   "cell_type": "code",
   "execution_count": 60,
   "metadata": {},
   "outputs": [
    {
     "data": {
      "text/plain": [
       "'C:\\\\Users\\\\Ashu\\\\Downloads\\\\Complete-Python-3-Bootcamp-master tests and projects'"
      ]
     },
     "execution_count": 60,
     "metadata": {},
     "output_type": "execute_result"
    }
   ],
   "source": [
    "os.getcwd()"
   ]
  },
  {
   "cell_type": "code",
   "execution_count": 62,
   "metadata": {},
   "outputs": [
    {
     "data": {
      "text/plain": [
       "['.ipynb_checkpoints',\n",
       " '01-Milestone Project 2 - Assignment - ashlesh.ipynb',\n",
       " '01-Opening-and-Reading-Files-Folders.ipynb',\n",
       " '02-Decorators Homework.ipynb',\n",
       " '02-Errors and Exceptions Homework.ipynb',\n",
       " '02-Iterators and Generators Homework udemy.ipynb',\n",
       " '02-Milestone Project 1 - Walkthrough Steps Workbook Ashlesh.ipynb',\n",
       " '02-Milestone Project 1 - Walkthrough Steps Workbook solution by udemy Ashlesh.ipynb',\n",
       " '02-Milestone Project 2 - Walkthrough Steps Workbook - ashlesh code along.ipynb',\n",
       " '02-Object Oriented Programming Homework ashlesh.ipynb',\n",
       " '03-Function Practice Exercises udemy ashlesh.ipynb',\n",
       " '04-OOP Challenge.ipynb',\n",
       " '07-Statements Assessment Test.ipynb',\n",
       " '08-Functions and Methods Homework ashlesh udemy.ipynb',\n",
       " '09-Objects and Data Structures Assessment Test.ipynb',\n",
       " 'Displaying Information, accepting user input, validate input udemy ashlesh.ipynb',\n",
       " 'generators in python ashlesh udemy.ipynb',\n",
       " 'Lambda Expression, Map and Filter Udemy ashlesh.ipynb',\n",
       " 'Milestone project 2 card game ashlesh.ipynb',\n",
       " 'nested statements and scope udemy ashlesh.ipynb',\n",
       " 'simple user interaction practice myself udemy ashlesh.ipynb',\n",
       " 'Simple user interaction udemy ashlesh.ipynb']"
      ]
     },
     "execution_count": 62,
     "metadata": {},
     "output_type": "execute_result"
    }
   ],
   "source": [
    "os.listdir()"
   ]
  },
  {
   "cell_type": "code",
   "execution_count": 64,
   "metadata": {},
   "outputs": [
    {
     "name": "stdout",
     "output_type": "stream",
     "text": [
      "Currently looking at C:\\Users\\Ashu\\Downloads\\Complete-Python-3-Bootcamp-master tests and projects\\Example_Top_Level\n",
      "\n",
      "\n",
      "THE SUBFOLDERS ARE: \n",
      "\t Subfolder: Mid-Example-One\n",
      "\n",
      "\n",
      "THE FILES ARE: \n",
      "File: Mid-Example.txt\n",
      "\n",
      "\n",
      "Currently looking at C:\\Users\\Ashu\\Downloads\\Complete-Python-3-Bootcamp-master tests and projects\\Example_Top_Level\\Mid-Example-One\n",
      "\n",
      "\n",
      "THE SUBFOLDERS ARE: \n",
      "\t Subfolder: Bottom-Level-One\n",
      "\t Subfolder: Bottom-Level-Two\n",
      "\n",
      "\n",
      "THE FILES ARE: \n",
      "File: Mid-Level-Doc.txt\n",
      "\n",
      "\n",
      "Currently looking at C:\\Users\\Ashu\\Downloads\\Complete-Python-3-Bootcamp-master tests and projects\\Example_Top_Level\\Mid-Example-One\\Bottom-Level-One\n",
      "\n",
      "\n",
      "THE SUBFOLDERS ARE: \n",
      "\n",
      "\n",
      "THE FILES ARE: \n",
      "File: One_Text.txt\n",
      "\n",
      "\n",
      "Currently looking at C:\\Users\\Ashu\\Downloads\\Complete-Python-3-Bootcamp-master tests and projects\\Example_Top_Level\\Mid-Example-One\\Bottom-Level-Two\n",
      "\n",
      "\n",
      "THE SUBFOLDERS ARE: \n",
      "\n",
      "\n",
      "THE FILES ARE: \n",
      "File: Bottom-Text-Two.txt\n",
      "\n",
      "\n"
     ]
    }
   ],
   "source": [
    "filepath = 'C:\\\\Users\\\\Ashu\\\\Downloads\\\\Complete-Python-3-Bootcamp-master tests and projects\\\\Example_Top_Level'\n",
    "for folder , sub_folders , files in os.walk(filepath):\n",
    "    \n",
    "    print(f\"Currently looking at {folder}\")\n",
    "    print('\\n')\n",
    "    print(\"THE SUBFOLDERS ARE: \")\n",
    "    for sub_fold in sub_folders:\n",
    "        print(f\"\\t Subfolder: {sub_fold}\")\n",
    "    \n",
    "    print('\\n')\n",
    "    \n",
    "    print(\"THE FILES ARE: \")\n",
    "    for f in files:\n",
    "        print(f\"File: {f}\")\n",
    "    print('\\n')\n",
    "    \n",
    "    # Now look at subfolders"
   ]
  },
  {
   "cell_type": "code",
   "execution_count": null,
   "metadata": {},
   "outputs": [],
   "source": []
  },
  {
   "cell_type": "markdown",
   "metadata": {
    "collapsed": true,
    "jupyter": {
     "outputs_hidden": true
    }
   },
   "source": [
    "___\n",
    "Excellent, you should now be aware of how to work with a computer's files and folders in whichever directory they are in. Remember that the os module works for any oeprating system that supports Python, which means these commands will work across Linux,MacOs, or Windows without need for adjustment."
   ]
  }
 ],
 "metadata": {
  "anaconda-cloud": {},
  "kernelspec": {
   "display_name": "Python 3 (ipykernel)",
   "language": "python",
   "name": "python3"
  },
  "language_info": {
   "codemirror_mode": {
    "name": "ipython",
    "version": 3
   },
   "file_extension": ".py",
   "mimetype": "text/x-python",
   "name": "python",
   "nbconvert_exporter": "python",
   "pygments_lexer": "ipython3",
   "version": "3.11.7"
  }
 },
 "nbformat": 4,
 "nbformat_minor": 4
}
