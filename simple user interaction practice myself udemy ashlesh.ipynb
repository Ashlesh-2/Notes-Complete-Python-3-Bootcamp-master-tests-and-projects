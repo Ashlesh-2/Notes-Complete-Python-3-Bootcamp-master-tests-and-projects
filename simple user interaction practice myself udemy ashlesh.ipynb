{
 "cells": [
  {
   "cell_type": "code",
   "execution_count": 1,
   "id": "102920f3",
   "metadata": {},
   "outputs": [],
   "source": [
    "clist = [0,1,2]"
   ]
  },
  {
   "cell_type": "code",
   "execution_count": 2,
   "id": "2276949e",
   "metadata": {},
   "outputs": [],
   "source": [
    "def display_current_list(clist):\n",
    "    print('here is a current list')\n",
    "    print(clist)"
   ]
  },
  {
   "cell_type": "code",
   "execution_count": 3,
   "id": "09b57148",
   "metadata": {},
   "outputs": [
    {
     "name": "stdout",
     "output_type": "stream",
     "text": [
      "here is a current list\n",
      "[0, 1, 2]\n"
     ]
    }
   ],
   "source": [
    "display_current_list(clist)"
   ]
  },
  {
   "cell_type": "code",
   "execution_count": 4,
   "id": "4adf2eaa",
   "metadata": {},
   "outputs": [],
   "source": [
    "def pos():\n",
    "    choice = 'w'\n",
    "    while choice not in ['0','1','2']:\n",
    "        choice = input('Enter a positon to change an item: ')\n",
    "        if choice in ['0','1','2']:\n",
    "            return int(choice)\n",
    "        else:\n",
    "            print('sorry wrong input')"
   ]
  },
  {
   "cell_type": "code",
   "execution_count": 5,
   "id": "47644c7e",
   "metadata": {},
   "outputs": [],
   "source": [
    "def enternewitem():\n",
    "    newitem = input('Enter new item: ')\n",
    "    return newitem"
   ]
  },
  {
   "cell_type": "code",
   "execution_count": 6,
   "id": "b946be1b",
   "metadata": {},
   "outputs": [],
   "source": [
    "def replace(clist, position, newitem):\n",
    "    clist[position] = newitem\n",
    "    return clist"
   ]
  },
  {
   "cell_type": "code",
   "execution_count": 7,
   "id": "f8983cb0",
   "metadata": {},
   "outputs": [],
   "source": [
    "def keepplaying():\n",
    "    choice = 'w'\n",
    "    while choice not in ['Y', 'N']:\n",
    "        choice = input('Keep playing ? (Y or N): ')\n",
    "        if choice not in ['Y', 'N']:\n",
    "            print('Enter valid input')\n",
    "        elif choice == 'Y':\n",
    "            \n",
    "            return True"
   ]
  },
  {
   "cell_type": "code",
   "execution_count": 10,
   "id": "1e35b9bb",
   "metadata": {},
   "outputs": [
    {
     "name": "stdout",
     "output_type": "stream",
     "text": [
      "Keep playing ? (Y or N): Y\n",
      "here is a current list\n",
      "[0, 1, 2]\n",
      "Enter a positon to change an item: er\n",
      "sorry wrong input\n",
      "Enter a positon to change an item: 2\n",
      "Enter new item: er\n",
      "here is a current list\n",
      "[0, 1, 'er']\n",
      "Keep playing ? (Y or N): N\n",
      "Thank you for playing...!!!\n"
     ]
    }
   ],
   "source": [
    "game = keepplaying()\n",
    "clist = [0,1,2]\n",
    "while game:\n",
    "    display_current_list(clist)\n",
    "    position = pos()\n",
    "    newitem = enternewitem()\n",
    "    clist = replace(clist, position, newitem)\n",
    "    display_current_list(clist)\n",
    "    game = keepplaying()\n",
    "\n",
    "print('Thank you for playing...!!!')"
   ]
  },
  {
   "cell_type": "code",
   "execution_count": null,
   "id": "eef8818f",
   "metadata": {},
   "outputs": [],
   "source": []
  }
 ],
 "metadata": {
  "kernelspec": {
   "display_name": "Python 3 (ipykernel)",
   "language": "python",
   "name": "python3"
  },
  "language_info": {
   "codemirror_mode": {
    "name": "ipython",
    "version": 3
   },
   "file_extension": ".py",
   "mimetype": "text/x-python",
   "name": "python",
   "nbconvert_exporter": "python",
   "pygments_lexer": "ipython3",
   "version": "3.11.3"
  }
 },
 "nbformat": 4,
 "nbformat_minor": 5
}
